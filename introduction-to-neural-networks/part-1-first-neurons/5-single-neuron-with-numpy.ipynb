{
 "cells": [
  {
   "cell_type": "markdown",
   "metadata": {},
   "source": [
    "# MLT: Introduction to Neural Networks\n",
    "## A Single Neuron in NumPy\n",
    "\n",
    "###### J-A-Collins"
   ]
  },
  {
   "cell_type": "markdown",
   "metadata": {},
   "source": [
    "Let's program a single neuron, but this time using the **dot product** and **vector addition** functions within NumPy. This will make our code easier to read and write, while also being faster to run too:"
   ]
  },
  {
   "cell_type": "code",
   "execution_count": null,
   "metadata": {},
   "outputs": [],
   "source": [
    "# Import numpy in the usual way:\n",
    "import numpy as np"
   ]
  },
  {
   "cell_type": "code",
   "execution_count": null,
   "metadata": {},
   "outputs": [],
   "source": [
    "# Set our inputs, weights and single bias - we'll use the same values as previous notebooks:\n",
    "inputs = [1.0, 2.0, 3.0, 2.5]\n",
    "weights = [0.2, 0.8, -0.5, 1.0]\n",
    "bias = 2.0"
   ]
  },
  {
   "cell_type": "code",
   "execution_count": null,
   "metadata": {},
   "outputs": [],
   "source": [
    "outputs = np.dot(weights, inputs) + bias\n",
    "outputs"
   ]
  },
  {
   "cell_type": "markdown",
   "metadata": {},
   "source": [
    "## A Layer of Neurons with NumPy"
   ]
  },
  {
   "cell_type": "markdown",
   "metadata": {},
   "source": [
    "Now let's return to calculating the output of a layer of 3 neurons, which means the weights will be a matrix or list of weight vectors. In standard Python, we wrote this as a list of lists. With NumPy, this will be a 2-D array, which we’ll call a matrix. Previously, with the three-neuron example, we performed a multiplication of those weights with a list containing inputs, which resulted in a list of output values — one for each neuron.  \n",
    "\n",
    "We also revised the dot product of two vectors in the previous notebook, but the weights are now a matrix, and we need to perform a dot product of them and the input vector. NumPy makes this really easy — by treating this matrix as a list of vectors and performing the dot product one by one with the vector of inputs, and then returning a list of dot products"
   ]
  },
  {
   "cell_type": "markdown",
   "metadata": {},
   "source": [
    "The dot product’s result, in our case, is a vector (or a list) of sums of the weight and bias products  for each of the neurons. From here, we still need to add corresponding biases to them. The biases can be easily added to the result of the dot product operation as they are a vector of the same size. We can also use the plain old Python list directly here, as NumPy converts it to an array for us. Previously, we had calculated outputs of each neuron by performing a dot product and adding a bias, one by one. Now we have changed the order of those operations — we’re performing dot product first as one operation on all neurons and inputs, and then we are adding a bias in the next operation.  \n",
    "\n",
    "\n",
    "When we add two vectors using NumPy, each _i_-th element is added together, resulting in a new vector of the same size. This is both a simplification and an optimisation, giving us simpler and faster code:"
   ]
  },
  {
   "cell_type": "code",
   "execution_count": null,
   "metadata": {},
   "outputs": [],
   "source": [
    "# Set our weights and biases into appropriate form:\n",
    "weights = [[0.2, 0.8, -0.5, 1], \n",
    "           [0.5, -0.91, 0.26, -0.5], \n",
    "           [-0.26, -0.27, 0.17, 0.87]]\n",
    "\n",
    "biases = [2.0, 3.0, 0.5]"
   ]
  },
  {
   "cell_type": "code",
   "execution_count": null,
   "metadata": {},
   "outputs": [],
   "source": [
    "layer_outputs = np.dot(weights, inputs) + biases\n",
    "layer_outputs"
   ]
  },
  {
   "cell_type": "markdown",
   "metadata": {},
   "source": [
    "This syntax, involving the dot product of weights and inputs followed by the vector addition of \n",
    "bias, is the most commonly used way to represent this calculation of inputs·weights+bias.  \n",
    "\n",
    "To explain the order of parameters we are passing into _np.dot()_, we should think of it as 'whatever comes first will decide the output shape'. In our case, we are passing a list of neuron weights first and then the inputs, as our goal is to get a list of neuron outputs. As we mentioned, a dot product of a matrix and a vector will result in a list of dot products. The _np.dot()_ method treats the matrix as a list of vectors and performs a dot product of each of those vectors with the other vector. In this example, we used that property to pass a matrix, which was a list of neuron weight vectors and a vector of inputs and get a list of dot products — the neuron outputs."
   ]
  }
 ],
 "metadata": {
  "kernelspec": {
   "display_name": "Python 3",
   "language": "python",
   "name": "python3"
  },
  "language_info": {
   "codemirror_mode": {
    "name": "ipython",
    "version": 3
   },
   "file_extension": ".py",
   "mimetype": "text/x-python",
   "name": "python",
   "nbconvert_exporter": "python",
   "pygments_lexer": "ipython3",
   "version": "3.8.5"
  }
 },
 "nbformat": 4,
 "nbformat_minor": 4
}
