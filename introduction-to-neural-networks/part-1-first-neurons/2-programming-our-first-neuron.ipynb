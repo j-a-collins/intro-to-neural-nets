{
 "cells": [
  {
   "cell_type": "markdown",
   "metadata": {},
   "source": [
    "# MLT: Introduction to Neural Networks\n",
    "## Programming our first Neuron\n",
    "###### J-A-Collins"
   ]
  },
  {
   "cell_type": "markdown",
   "metadata": {},
   "source": [
    "##### A Single Neuron:\n",
    "We can start with a single neuron which has three **inputs**. When parameters are initialised in neural networks, we will have **weights** initialised randomly and the biases set as zero to start.  \n",
    "\n",
    "\n",
    "For now, we’re just going to make up some values for our inputs:"
   ]
  },
  {
   "cell_type": "code",
   "execution_count": null,
   "metadata": {},
   "outputs": [],
   "source": [
    "inputs = [1, 2, 3]\n",
    "inputs"
   ]
  },
  {
   "cell_type": "markdown",
   "metadata": {},
   "source": [
    "Each input needs a weight associated with it. Inputs are the data that we pass into the model \n",
    "to get desired outputs, while the weights are the parameters that we’ll tune later on to get these \n",
    "results. Weights are one of the types of values that change inside the model during the training \n",
    "phase, along with biases that also change during training.\n",
    "\n",
    "##### The values for weights and biases are what get “trained,” and they are what make a model actually work (or not work). \n",
    "\n",
    "Let's also make up some weights now. Let’s say the first input, at index 0, which is a 1, has a weight of \n",
    "0.2, the second input has a weight of 0.8, and the third input has a weight of -0.5:"
   ]
  },
  {
   "cell_type": "code",
   "execution_count": null,
   "metadata": {},
   "outputs": [],
   "source": [
    "weights = [0.2, 0.8, -.5]\n",
    "weights"
   ]
  },
  {
   "cell_type": "markdown",
   "metadata": {},
   "source": [
    "Now we need the **bias**. Because we’re modeling a single neuron with three inputs, we only require one bias, as there’s just one bias value per neuron.\n",
    "##### The bias is an additional tunable value but isn't associated with any input, in contrast to the weights. Let's randomly select a value of 2 as the bias for this example:"
   ]
  },
  {
   "cell_type": "code",
   "execution_count": null,
   "metadata": {},
   "outputs": [],
   "source": [
    "bias = 2\n",
    "bias"
   ]
  },
  {
   "cell_type": "markdown",
   "metadata": {},
   "source": [
    "#### How our first neuron works:\n",
    "This neuron sums each input multiplied by it's respective weight, then it just adds the bias. All the neuron does is take the fractions of inputs, where these fractions (weights) are the adjustable parameters, and adds another adjustable parameter — the bias — then outputs the result. Our output would be calculated up to this point lik this:"
   ]
  },
  {
   "cell_type": "code",
   "execution_count": null,
   "metadata": {},
   "outputs": [],
   "source": [
    "output = (inputs[0] * weights[0] + inputs[1] * weights[1] + inputs[2] * weights[2] + bias)\n",
    "output"
   ]
  },
  {
   "cell_type": "markdown",
   "metadata": {},
   "source": [
    "What might we need to change if we have 4 inputs, rather than the 3 we’ve just shown? Next to \n",
    "the additional input, we need to add an associated weight that this new input will be multiplied \n",
    "with. We’ll make up a value for this new weight as well and then perform the same kind of computation. Code for this data could be:"
   ]
  },
  {
   "cell_type": "code",
   "execution_count": null,
   "metadata": {},
   "outputs": [],
   "source": [
    "inputs = [1.0, 2.0, 3.0, 2.5]\n",
    "weights = [0.2, 0.8, -0.5, 1.0]\n",
    "bias = 2.0\n",
    "\n",
    "output = (inputs[0] * weights[0] + inputs[1] * weights[1] + \n",
    "          inputs[2] * weights[2] + inputs[3] * weights[3] + bias)\n",
    "\n",
    "output"
   ]
  },
  {
   "cell_type": "markdown",
   "metadata": {},
   "source": [
    "Just to reinforce the idea of the single neuron we've just built, let's visualise it in a simple way:  \n",
    "\n",
    "![first-neuron.JPG](img/first-neuron.JPG \"First Neuron Schematic\")  "
   ]
  }
 ],
 "metadata": {
  "kernelspec": {
   "display_name": "Python 3",
   "language": "python",
   "name": "python3"
  },
  "language_info": {
   "codemirror_mode": {
    "name": "ipython",
    "version": 3
   },
   "file_extension": ".py",
   "mimetype": "text/x-python",
   "name": "python",
   "nbconvert_exporter": "python",
   "pygments_lexer": "ipython3",
   "version": "3.8.5"
  }
 },
 "nbformat": 4,
 "nbformat_minor": 4
}
