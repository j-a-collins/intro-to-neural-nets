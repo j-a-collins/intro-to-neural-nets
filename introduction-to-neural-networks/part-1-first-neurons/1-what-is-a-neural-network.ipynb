{
 "cells": [
  {
   "cell_type": "markdown",
   "metadata": {},
   "source": [
    "# MLT: Introduction to Neural Networks\n",
    "## What is a Neural Network? - a brief summary\n",
    "###### J-A-Collins"
   ]
  },
  {
   "cell_type": "markdown",
   "metadata": {},
   "source": [
    "“Artificial” neural networks are inspired by the biological architecture that constitutes the organic brain, translated to a computer program.\n",
    "\n",
    "![biological-neuron.JPG](img/biological-neuron.JPG \"Biological Neuron\")  \n",
    "\n",
    "![artificial-neuron.JPG](img/artificial-neuron.JPG \"Artificial Neuron\")  \n",
    "\n",
    "It is by no means a perfect comparison, but there are neurons, _activations_, and lots of interconnectivity, even if the underlying processes are quite different."
   ]
  },
  {
   "cell_type": "markdown",
   "metadata": {},
   "source": [
    " A single neuron by itself is relatively useless, but, when combined with hundreds or thousands of\n",
    "(or potentially many more) other neurons, the interconnectivity produces relationships and results that \n",
    "frequently outperform any other machine learning methods.\n"
   ]
  },
  {
   "cell_type": "markdown",
   "metadata": {},
   "source": [
    "It might seem rather complicated when you look at it this way. Neural networks are considered to be “black boxes” in that we often have no idea why they reach the conclusions they do. We do understand how they do this, though. Dense layers, the most common layers, consist of interconnected neurons. In a dense layer, each neuron of a given layer is connected to every neuron of the next layer, which means that its output value becomes an input for the next neurons. Each connection between neurons has a weight associated with it, which is a trainable factor of how much of this input to use, and this weight gets multiplied by the input value. Once all of the inputs·weights flow into our neuron, they are summed, and a bias, another trainable parameter, is added. The purpose of the bias is to offset the \n",
    "output positively or negatively, which can further help us map more real-world types of dynamic data."
   ]
  },
  {
   "cell_type": "markdown",
   "metadata": {},
   "source": [
    "To train a neural network, we calculate how “wrong” they are using algorithms to calculate the error (called **loss**), and attempt to slowly adjust their parameters (weights and biases) so that, over many iterations, the network gradually becomes less wrong. The goal of all neural networks is to generalise, meaning the network can see many examples of never-before-seen data, and accurately output the values we hope to achieve. Neural networks can be used for more than just classification. They can perform regression (predict a scalar, singular, value), clustering (assign unstructured data into groups), and many other tasks."
   ]
  }
 ],
 "metadata": {
  "kernelspec": {
   "display_name": "Python 3",
   "language": "python",
   "name": "python3"
  },
  "language_info": {
   "codemirror_mode": {
    "name": "ipython",
    "version": 3
   },
   "file_extension": ".py",
   "mimetype": "text/x-python",
   "name": "python",
   "nbconvert_exporter": "python",
   "pygments_lexer": "ipython3",
   "version": "3.8.5"
  }
 },
 "nbformat": 4,
 "nbformat_minor": 4
}
