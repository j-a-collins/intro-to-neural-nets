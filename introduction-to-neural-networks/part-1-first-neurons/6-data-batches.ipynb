{
 "cells": [
  {
   "cell_type": "markdown",
   "metadata": {},
   "source": [
    "# MLT: Introduction to Neural Networks\n",
    "## Data Batches - a brief summary\n",
    "##### (And a quick recap of transposition for the matrix product)\n",
    "\n",
    "###### J-A-Collins"
   ]
  },
  {
   "cell_type": "markdown",
   "metadata": {},
   "source": [
    "In order to be trained, neural networks tend to receive data in **batches**. So far, the example input data has been only one sample of various features called a **feature set**:"
   ]
  },
  {
   "cell_type": "code",
   "execution_count": 1,
   "metadata": {},
   "outputs": [],
   "source": [
    "inputs = [1, 2, 3, 2.5]"
   ]
  },
  {
   "cell_type": "markdown",
   "metadata": {},
   "source": [
    "Here, the [1, 2, 3, 2.5] data are somehow meaningful and descriptive in relation to the output we desire. Imagine each number as a value from a different sensor, from the example in chapter 1, all simultaneously. Each of these values is a **feature observation** datum, and together they form a **feature set instance**, also called an **observation**, or most commonly, a **sample**."
   ]
  },
  {
   "cell_type": "markdown",
   "metadata": {},
   "source": [
    "Often, neural networks expect take in many samples at a time for two reasons: \n",
    "* It’s faster to train in batches in parallel processing;\n",
    "* Batches help with generalisation during training.  \n",
    "\n",
    "If we fit (perform a **step** of a training process) on one sample at a time, then you’re highly likely to keep fitting to that individual sample, rather than slowly producing general adjustments to weights and biases that fit the entire dataset. Fitting or training in batches gives us a higher chance of making more meaningful changes to our weights and biases."
   ]
  },
  {
   "cell_type": "markdown",
   "metadata": {},
   "source": [
    "Remember that lists are useful containers for holding a sample as well as multiple samples that make up a batch of observations. Such an example of a batch of observations, each with its own sample, looks like the following:"
   ]
  },
  {
   "cell_type": "code",
   "execution_count": 2,
   "metadata": {},
   "outputs": [],
   "source": [
    "inputs = [[1, 2, 3, 2.5], \n",
    "          [2, 5, -1, 2], \n",
    "          [-1.5, 2.7, 3.3, -0.8]]"
   ]
  },
  {
   "cell_type": "markdown",
   "metadata": {},
   "source": [
    "This list of lists could be made into an array since it is homologous. Note that each “list” in this \n",
    "larger list is a sample representing a feature set. [1, 2, 3, 2.5], [2, 5, -1, 2], and \n",
    "[-1.5, 2.7, 3.3, -0.8] are all **samples**, and are also referred to as **feature set instances** or\n",
    "**observations**.\n",
    "We have a matrix of inputs and a matrix of weights now, and we need to perform the dot product on them somehow, but how and what will the result be? Similarly, as we performed a dot product on a matrix and a vector, we treated the matrix as a list of vectors, resulting in a list of dot products. In this example, we need to manage both matrices as lists of vectors and perform dot products on all of them in all combinations, resulting in a list of lists of outputs, or a matrix; this operation is called the **matrix product**"
   ]
  },
  {
   "cell_type": "markdown",
   "metadata": {},
   "source": [
    "### Matrix Product\n",
    "\n",
    "The **matrix product** is an operation in which we have 2 matrices, and we are performing dot \n",
    "products of all combinations of rows from the first matrix and the columns of the 2nd matrix, \n",
    "resulting in a matrix of those atomic **dot products**:\n",
    "\n",
    "![matrix-product.png](img/matrix-product.png \" Visualizing how a single element in the resulting matrix from matrix product is calculated. See animation for the full calculation of each element\")"
   ]
  },
  {
   "cell_type": "markdown",
   "metadata": {},
   "source": [
    "To perform a matrix product, the size of the second dimension of the left matrix must match the size of the first dimension of the right matrix. For example, if the left matrix has a shape of (5, 4) then the right matrix must match this 4 within the first shape value (4, 7). The shape of the resulting array is always the first dimension of the left array and the second dimension of the right array, (5, 7). In the above example, the left matrix has a shape of (5, 4), and the upper-right matrix has a shape of (4, 5). The second dimension of the left array and the first dimension of the second array are both 4, they match, and the resulting array has a shape of (5, 5). To elaborate, we can also show that we can perform the matrix product on vectors."
   ]
  },
  {
   "cell_type": "markdown",
   "metadata": {},
   "source": [
    "![row-col.png](img/row-col.png \"Rows and Cols\")"
   ]
  },
  {
   "cell_type": "markdown",
   "metadata": {},
   "source": [
    "_a_ is a row vector. It looks very similar to a vector a (with an arrow above it) described earlier \n",
    "along with the vector product. The difference in notation between a row vector and vector are commas between values and the arrow above symbol _a_ is missing on a row vector. It’s called a row vector as it’s a vector of a row of a matrix. _b_, on the other hand, is called a column vector because it’s a column of a matrix. As row and column vectors are technically matrices, we do not denote them with vector arrows anymore.  \n",
    "\n",
    "\n",
    "When we perform the matrix product on them, the result becomes a matrix as well, like in the \n",
    "previous example, but containing just a single value, the same value as in the dot product example \n",
    "we have discussed previously:"
   ]
  },
  {
   "cell_type": "markdown",
   "metadata": {},
   "source": [
    "![row-col-calc.png](img/row-col-calc.png \"Matrix product calculation\")"
   ]
  },
  {
   "cell_type": "markdown",
   "metadata": {},
   "source": [
    "### Transposition for the Matrix Product:\n",
    "How did we suddenly go from 2 vectors to row and column vectors? We used the relation of the \n",
    "dot product and matrix product saying that a dot product of two vectors equals a matrix product of \n",
    "a row and column vector (the arrows above the letters signify that they are vectors):"
   ]
  },
  {
   "cell_type": "code",
   "execution_count": null,
   "metadata": {},
   "outputs": [],
   "source": []
  }
 ],
 "metadata": {
  "kernelspec": {
   "display_name": "Python 3",
   "language": "python",
   "name": "python3"
  },
  "language_info": {
   "codemirror_mode": {
    "name": "ipython",
    "version": 3
   },
   "file_extension": ".py",
   "mimetype": "text/x-python",
   "name": "python",
   "nbconvert_exporter": "python",
   "pygments_lexer": "ipython3",
   "version": "3.8.5"
  }
 },
 "nbformat": 4,
 "nbformat_minor": 4
}
